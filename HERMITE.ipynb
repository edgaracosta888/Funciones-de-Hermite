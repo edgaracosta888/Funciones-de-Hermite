{
 "cells": [
  {
   "cell_type": "markdown",
   "metadata": {
    "collapsed": false
   },
   "source": [
    "# FUNCIONES DE HERMITE\n",
    "#### Presentado al profesor Fabio Duban Lora\n",
    "#### Presentado por Edgar Andrés Acosta Pinzón\n",
    "#### Matemática Aplicada II\n",
    "#### Maestría en Matemática Aplicada\n",
    "#### Escuela de Física\n",
    "#### Universidad Industrial de Santander"
   ]
  },
  {
   "cell_type": "markdown",
   "metadata": {},
   "source": [
    "Primero llamamos algunas librería que nos serán útiles para los cálculos numéricos posteriores"
   ]
  },
  {
   "cell_type": "code",
   "execution_count": 12,
   "metadata": {
    "collapsed": true
   },
   "outputs": [],
   "source": [
    "from sympy import *\n",
    "import pandas as pd\n",
    "import numpy as np\n",
    "import matplotlib.pyplot as plt\n",
    "%matplotlib inline\n",
    "import matplotlib\n",
    "matplotlib.use(\"Agg\")"
   ]
  },
  {
   "cell_type": "markdown",
   "metadata": {},
   "source": [
    "## 1.Ecuación diferencial "
   ]
  },
  {
   "cell_type": "markdown",
   "metadata": {},
   "source": [
    "##### Se parte de la ecuación de Weber\n",
    "### $\\Psi''+(\\lambda-x^{2})\\Psi=0.$ \n",
    "##### En esta ecuación suponemos una solución de la forma $\\Psi(x)=e^{-x^{2}/2}y(x)$, obteniendo de esta forma la ecuación de Hermite\n",
    "### $y''-2xy'+2ny=0,$\n",
    "##### donde $n=\\lambda-1$ es un parámetro real.\n",
    "##### Ahora sabiendo que los coeficientes de esta ecuación son polinomios y que por esto todo punto es regular,  entonces  proponemos soluciones en series de Taylor centras en cualquier punto con radio de convergencia infinito."
   ]
  },
  {
   "cell_type": "markdown",
   "metadata": {},
   "source": [
    "## 1.1 Solución de la ecuación diferencial y fórmula de Rodríguez\n",
    "##### Como mencionamos anteriormente, la solución que se plantea, será una solución dada en términos de una serie de Taylor, en este caso la expandiremos alrededor del origen. Para esto partiremos de la fórmula generatriz de las funciones de Hermite definida por\n",
    "### $\\sum_{n=0}^{\\infty} \\frac{H_{n}(x)t^{n}}{n!}=e^{2xt-t^{2}}.$\n",
    "##### Primero, completamos cuadrados:\n",
    "### $\\sum_{n=0}^{\\infty} \\frac{H_{n}(x)t^{n}}{n!}=e^{2xt-t^{2}+x^{2}-x^{2}}$\n",
    "### $\\sum_{n=0}^{\\infty} \\frac{H_{n}(x)t^{n}}{n!}=e^{-(t^{2}-2xt+x^{2}-x^{2})}$\n",
    "### $\\sum_{n=0}^{\\infty} \\frac{H_{n}(x)t^{n}}{n!}=e^{x^{2}-(t-x)^{2}}$\n",
    "\n",
    "##### Ahora derivamos ambos lados respecto a t:\n",
    "### $\\frac{\\partial^n}{\\partial t^n}(e^{x^{2}-(t-x)^{2}})|_{t=0}=\\frac{\\partial^n}{\\partial t^n}\\sum_{n=0}^{\\infty} \\frac{H_{n}(x)t^{n}}{n!}$\n",
    "##### Primero desarrollaremos el lado derecho de la ecuación:\n",
    "### $\\frac{\\partial^n}{\\partial t^n}\\sum_{n=0}^{\\infty} \\frac{H_{n}(x)t^{n}}{n!}=\\sum_{n=0}^{\\infty}\\frac{n(n+1)(n-2)...(3)(2)(1)H_{n}(x)t^{0}}{n(n-1)(n-2)...(3)(2)(1)}$\n",
    "##### Evidentemente al simplificar se obtiene\n",
    "### $\\frac{\\partial^n}{\\partial t^n}\\sum_{n=0}^{\\infty} \\frac{H_{n}(x)t^{n}}{n!}=H_{n}(x)$\n",
    "##### ya que cuando $n\\rightarrow \\infty$, es decir, a medida que el orden de la derivada aumenta, los primeros términos de la serie se anulan.\n",
    "\n",
    "##### Ahora desarrollamos el lado izquierdo de la ecuación:\n",
    "### $\\frac{\\partial^n}{\\partial t^n}(e^{x^{2}-(t-x)^{2}})=e^{x^{2}}\\frac{\\partial^n}{\\partial t^n}(e^{-(t-x)^{2}})$\n",
    "##### De aquí podemos aprovechar que la derivada respecto a $t$ es igual que la derivada respecto a $-x$ como veremos\n",
    "### $\\frac{\\partial}{\\partial t}(e^{-(t-x)^{2}})=(e^{-(t-x)^{2}})(-2(t-x))=\\frac{\\partial}{\\partial (-x)}(e^{-(t-x)^{2}})$\n",
    "##### Entonces podemos escribir\n",
    "\n",
    "### $\\frac{\\partial^n}{\\partial t^n}(e^{x^{2}-(t-x)^{2}})=\\frac{\\partial^n}{\\partial (-x)^n}(e^{x^{2}-(t-x)^{2}})$\n",
    "##### Así pues, retomando botenemos\n",
    "### $\\frac{\\partial^n}{\\partial t^n}(e^{x^{2}-(t-x)^{2}})=e^{x^{2}}\\frac{\\partial^n}{\\partial (-x)^n}(e^{-(t-x)^{2}})$\n",
    "##### y evaluando en $t=0$ se obtiene:\n",
    "### $\\frac{\\partial^n}{\\partial t^n}(e^{x^{2}-(t-x)^{2}})=(-1)^{n}\\frac{d^{n}}{dx^{n}}e^{(-x)^{2}}$\n",
    "\n",
    "##### Despues de todo este desarrollo, ahora sí, al igualar los dos resultados obtenemos la fórmula de Rodríguez asociada a los polinomios de Hermite:\n",
    "### $(-1)\\frac{d^{n}}{dx^{n}}e^{(-x)^{2}}=H_{n}(x)$"
   ]
  },
  {
   "cell_type": "markdown",
   "metadata": {},
   "source": [
    "## 2. Fórmulas de recurrencia"
   ]
  },
  {
   "cell_type": "markdown",
   "metadata": {},
   "source": [
    "## 2.1. Primera Fórmula de recurrencia\n",
    "##### Para llegar a la primera fórmula de recurrencia, partiremos de nuevo de la fórmula generatriz.\n",
    "### $\\sum_{n=0}^{\\infty} \\frac{H_{n}(x)t^{n}}{n!}=e^{2xt-t^{2}}.$\n",
    "##### Derivamos respecto a $t$ y obtenemos:\n",
    "### $\\sum_{n=0}^{\\infty} n\\frac{H_{n}(x)t^{n-1}}{n!}=(2x-2t)e^{2xt-t^{2}}$\n",
    "##### Ahora reemplazamos $e^{2xt-t^{2}}=\\sum_{n=0}^{\\infty} \\frac{H_{n}(x)t^{n}}{n!}$ en la ecuación anterior y se obtiene:\n",
    "### $\\sum_{n=0}^{\\infty} n\\frac{H_{n}(x)t^{n-1}}{n!}=(2x-2t)\\sum_{n=0}^{\\infty} \\frac{H_{n}(x)t^{n}}{n!}$\n",
    "### $\\sum_{n=0}^{\\infty} n\\frac{H_{n}(x)t^{n-1}}{n!}=2x\\sum_{n=0}^{\\infty} \\frac{H_{n}(x)t^{n}}{n!}-2t\\sum_{n=0}^{\\infty} \\frac{H_{n}(x)t^{n}}{n!}$\n",
    "### $\\sum_{n=-1}^{\\infty} (n+1)\\frac{H_{n+1}(x)t^{n}}{(n+1)!}=2x\\sum_{n=0}^{\\infty} \\frac{H_{n}(x)t^{n}}{n!}-2t\\sum_{n=0}^{\\infty} \\frac{H_{n}(x)t^{n}}{n!}$\n",
    "##### Es evidente que la suma del lado izquierdo de la ecuación, se puede comenzar en $n=0$ sin ningún problema pues el primer término (n=-1) es cero, entonces\n",
    "### $\\sum_{n=0}^{\\infty} (n+1)\\frac{H_{n+1}(x)t^{n}}{(n+1)!}=2x\\sum_{n=0}^{\\infty} \\frac{H_{n}(x)t^{n}}{n!}-2\\sum_{n=1}^{\\infty} \\frac{H_{n-1}(x)t^{n+1}}{(n-1)!}$\n",
    "##### Ahora igualando a cero se tiene\n",
    "### $2x\\sum_{n=0}^{\\infty} \\frac{H_{n}(x)t^{n}}{n!}-2\\sum_{n=1}^{\\infty} \\frac{nH_{n-1}(x)t^{n}}{n(n-1)!}-\\sum_{n=0}^{\\infty} (n+1)\\frac{H_{n+1}(x)t^{n}}{(n+1)!}=0$\n",
    "\n",
    "### $2x\\sum_{n=0}^{\\infty} \\frac{H_{n}(x)t^{n}}{n!}-2\\sum_{n=1}^{\\infty} \\frac{nH_{n-1}(x)t^{n}}{n!}-\\sum_{n=0}^{\\infty} (n+1)\\frac{H_{n+1}(x)t^{n}}{(n+1)!}=0$\n",
    "##### De nuevo es evidente que no hay diferencia si arrancamos la segunda suma en cero, pues el primer término (n=0) se anularía, entonces:\n",
    "### $2x\\sum_{n=0}^{\\infty} \\frac{H_{n}(x)t^{n}}{n!}-2\\sum_{n=0}^{\\infty} \\frac{nH_{n-1}(x)t^{n}}{n!}-\\sum_{n=0}^{\\infty} (n+1)\\frac{H_{n+1}(x)t^{n}}{(n+1)!}=0$\n",
    "##### Ahora podemos agrupar todo dentro de una sola sumatoria así:\n",
    "### $\\sum_{n=0}^{\\infty} \\left[ 2xH_{n}(x)\\frac{t^{n}}{n!}-2nH_{n-1}(x)\\frac{t^{n}}{n!}-(n+1)H_{n+1}(x)\\frac{t^{n}}{(n+1)!} \\right] =0$\n",
    "### $\\sum_{n=0}^{\\infty} \\left[ 2xH_{n}(x)\\frac{t^{n}}{n!}-2nH_{n-1}(x)\\frac{t^{n}}{n!}-H_{n+1}(x)\\frac{t^{n}}{n!} \\right] =0$\n",
    "##### Ahora factorizamos $\\frac{t^{n}}{n!}$ se tiene:\n",
    "### $\\sum_{n=0}^{\\infty} \\frac{t^{n}}{n!} \\left[ 2xH_{n}(x)-2nH_{n-1}(x)-H_{n+1}(x) \\right] =0$\n",
    "##### y como sabemos que $\\frac{t^{n}}{n!}\\not=0$ obtenemos la primera relación de recurrencia\n",
    "### $2xH_{n}(x)-2nH_{n-1}(x)-H_{n+1}(x)=0$\n",
    "##### o\n",
    "## $H_{n+1}(x)=2xH_{n}(x)-2nH_{n-1}(x)$"
   ]
  },
  {
   "cell_type": "markdown",
   "metadata": {},
   "source": [
    "## 2.2. Segunda Fórmula de recurrencia\n",
    "##### De nuevo partiremos de la fórmula generatriz\n",
    "### $\\sum_{n=0}^{\\infty} \\frac{H_{n}(x)t^{n}}{n!}=e^{2xt-t^{2}}.$\n",
    "##### Derivamos ambos lados de la ecuación de nuevo, pero esta vez respecto a $x$.\n",
    "### $2te^{2xt-t^{2}}=\\sum_{n=0}^{\\infty}\\frac{H_{n}'t^{n}}{n!}$\n",
    "##### Ahora reemplazamos $e^{2xt-t^{2}}=\\sum_{n=0}^{\\infty} \\frac{H_{n}(x)t^{n}}{n!}$ en la ecuación anterior y se obtiene:\n",
    "### $2t\\sum_{n=0}^{\\infty} \\frac{H_{n}(x)t^{n}}{n!}=\\sum_{n=0}^{\\infty}\\frac{H_{n}'t^{n}}{n!}$\n",
    "### $2\\sum_{n=0}^{\\infty} \\frac{H_{n}(x)t^{n+1}}{n!}=\\sum_{n=0}^{\\infty}\\frac{H_{n}'t^{n}}{n!}$\n",
    "### $2\\sum_{n=1}^{\\infty} \\frac{H_{n-1}(x)t^{n}}{(n-1)!}=\\sum_{n=0}^{\\infty}\\frac{H_{n}'t^{n}}{n!}$\n",
    "### $\\sum_{n=1}^{\\infty} 2\\frac{nH_{n-1}(x)t^{n}}{n(n-1)!}=\\sum_{n=0}^{\\infty}\\frac{H_{n}'t^{n}}{n!}$\n",
    "### $\\sum_{n=1}^{\\infty} 2\\frac{nH_{n-1}(x)t^{n}}{n!}=\\sum_{n=0}^{\\infty}\\frac{H_{n}'t^{n}}{n!}$\n",
    "\n",
    "##### Evidentemente la primer suma puede arrancar en cero sin problema pues el primer término $n=0$ se anula, entonces\n",
    "### $\\sum_{n=0}^{\\infty} 2\\frac{nH_{n-1}(x)t^{n}}{n!}=\\sum_{n=0}^{\\infty}\\frac{H_{n}'t^{n}}{n!}$\n",
    "### $\\sum_{n=0}^{\\infty} 2\\frac{nH_{n-1}(x)t^{n}}{n!}-\\sum_{n=0}^{\\infty}\\frac{H_{n}'t^{n}}{n!}=0$\n",
    "### $\\sum_{n=0}^{\\infty} \\frac{t^{n}}{n!} \\left[ 2nH_{n-1}(x)-H_{n}' \\right]=0$\n",
    "\n",
    "##### Acá de nuevo, como $\\frac{t^{n}}{n!}\\not=0$, obtenemos automaticamente la segunda relación de recurrencia\n",
    "### $2nH_{n-1}(x)-H_{n}'=0$\n",
    "##### o\n",
    "## $2nH_{n-1}(x)=H_{n}'$\n"
   ]
  },
  {
   "cell_type": "markdown",
   "metadata": {},
   "source": [
    "## 3. Ortogonalidad de los polinomios\n",
    "##### Probaremos ahora la ortogonalidad de los polinomios. Se aclara que sólo se prueba la ortogonalidad, pues estos polinomios no están normalizados. \n",
    "##### Debemos saber que la función peso para hacer esta prueba es $e^{-x^{2}}$.\n",
    "##### Partimos de suponer dos polinomios $H_{n}(x)$ y $H_{m}(x)$ con $n\\not=m$ que satisfacen la ecuación de Hermite, es decir, que ambos son solución a ella; entonces\n",
    "### $H_{n}''-2xH_{n}'+2\\lambda H_{n}=0$\n",
    "### $H_{m}''-2xH_{m}'+2\\lambda H_{m}=0$\n",
    "##### Multiplicamos la primera por $H_{m}$ y la segunda por $H_{n}$\n",
    "### $H_{m}H_{n}''-2xH_{m}H_{n}'+2\\lambda H_{m}H_{n}=0$\n",
    "### $H_{n}H_{m}''-2xH_{n}H_{m}'+2\\lambda H_{n}H_{m}=0$\n",
    "##### Ahora restamos las dos ecuaciones y agrupamos términos de manera conveniente para obtener:\n",
    "### $(H_{n}H_{m}''-H_{m}H_{n}'')-2x(H_{m}'H_{n}-H_{m}H_{n}')=2H_{n}H_{m}(n-m)$\n",
    "##### Recordemos que $n=\\lambda-1$ y esto se cumple igualmente para $m$, por tanto al restar se obtiene el término $(n-m)$\n",
    "##### Si observamos bien, el lado izquierdo de esta ecuación se puede expresar como una derivada\n",
    "### $\\frac{d}{dx}(H_{m}'H_{n}-H_{m}H_{n}')-2x(H_{m}'H_{n}-H_{m}H_{n}')=2H_{n}H_{m}(n-m)$\n",
    "### $\\frac{1}{2}\\frac{d}{dx}(H_{m}'H_{n}-H_{m}H_{n}')-x(H_{m}'H_{n}-H_{m}H_{n}')=H_{n}H_{m}(n-m)$\n",
    "##### Ahora multiplicamos por $e^{-\\frac{x^{2}}{2}}$\n",
    "### $\\frac{1}{2}e^{-\\frac{x^{2}}{2}}\\frac{d}{dx}(H_{m}'H_{n}-H_{m}H_{n}')-xe^{-\\frac{x^{2}}{2}}(H_{m}'H_{n}-H_{m}H_{n}')=e^{-\\frac{x^{2}}{2}}H_{n}H_{m}(n-m)$\n",
    "##### Ahora realizamos un cambio de variable; haciendo $r=e^{-\\frac{x^{2}}{2}}$ se obtiene\n",
    "### $\\frac{1}{2}r\\frac{d}{dx}(H_{m}'H_{n}-H_{m}H_{n}')+r'x(H_{m}'H_{n}-H_{m}H_{n}')=rH_{n}H_{m}(n-m)$\n",
    "##### Es evidente que esta es la derivada de un producto, por lo tanto la escribimos de la siguiente manera\n",
    "### $\\frac{1}{2}\\frac{d}{dx} \\left[ r(H_{m}'H_{n}-H_{m}H_{n}') \\right] = rH_{n}H_{m}(n-m)$\n",
    "### $\\frac{1}{2}\\frac{d}{dx} \\left[ e^{-\\frac{x^{2}}{2}}(H_{m}'H_{n}-H_{m}H_{n}') \\right] = e^{-\\frac{x^{2}}{2}}H_{n}H_{m}(n-m)$\n",
    "##### Ahora integramos\n",
    "### $\\int_{\\infty}^{\\infty}d\\frac{1}{2} \\left[ e^{-\\frac{x^{2}}{2}}(H_{m}'H_{n}-H_{m}H_{n}') \\right]=\\int_{\\infty}^{\\infty}e^{-\\frac{x^{2}}{2}}H_{n}H_{m}(n-m)dx$\n",
    "### $\\frac{1}{2} \\left[ e^{-\\frac{x^{2}}{2}}(H_{m}'H_{n}-H_{m}H_{n}') \\right]|_{-\\infty}^{\\infty} =(n-m)\\int_{\\infty}^{\\infty}e^{-\\frac{x^{2}}{2}}H_{n}H_{m}dx$\n",
    "##### Al evaluar la parte izquierda de la expresión anterior en los límites de la integral, fácilmente (sacando el límite y aplicando l'hopital) se evidencia que el resultado es cero, por lo tanto obtenemos\n",
    "### $0=(n-m)\\int_{\\infty}^{\\infty}e^{-\\frac{x^{2}}{2}}H_{n}H_{m}dx$\n",
    "##### y como $n \\not= m$ queda demostrado que los polinomios son ortogonales\n",
    "## $\\int_{\\infty}^{\\infty}e^{-\\frac{x^{2}}{2}}H_{n}H_{m}dx=0$"
   ]
  },
  {
   "cell_type": "markdown",
   "metadata": {},
   "source": [
    "## 4. Gráfica de los primeros 5 polinomios de Hermite"
   ]
  },
  {
   "cell_type": "markdown",
   "metadata": {},
   "source": [
    "##### Lo primero que se hará será definir una función que calcule a partir de la primera fórmula de recurrencia deducida anteriormete, cualquier polinomio de Hermite, solamente dandole como parámetro de entrada el grado $n$ del polinomio que se quiere calcular."
   ]
  },
  {
   "cell_type": "code",
   "execution_count": 13,
   "metadata": {
    "collapsed": true
   },
   "outputs": [],
   "source": [
    "def Hn(n):\n",
    "    global H\n",
    "    global x\n",
    "    if n == 0:\n",
    "        return 1\n",
    "    else:\n",
    "        if n < 0:\n",
    "            return \"n debe ser mayor que cero\"\n",
    "        else:\n",
    "            H = range (0,n+1)\n",
    "            x = symbols(\"x\")\n",
    "            H[0] = 1\n",
    "            H[1] = 2*x\n",
    "            for i in range (2,len(H)):\n",
    "                H[i]=2*x*H[i-1]-2*(i-1)*H[i-2]\n",
    "            return H[n]"
   ]
  },
  {
   "cell_type": "markdown",
   "metadata": {},
   "source": [
    "##### Acá se calculan los primeros 5 polinomios, se define la función peso que se usará para mas adelante calcular el producto interno entre los polinomios, y se muestran los 5 polinomios calculados."
   ]
  },
  {
   "cell_type": "code",
   "execution_count": 4,
   "metadata": {
    "collapsed": false
   },
   "outputs": [],
   "source": [
    "P0 = simplify(Hn(0))\n",
    "P1 = simplify(Hn(1))\n",
    "P2 = simplify(Hn(2))\n",
    "P3 = simplify(Hn(3))\n",
    "P4 = simplify(Hn(4))\n",
    "P5 = simplify(Hn(5))"
   ]
  },
  {
   "cell_type": "code",
   "execution_count": 14,
   "metadata": {
    "collapsed": false
   },
   "outputs": [],
   "source": [
    "rho = np.e**(-x**2)"
   ]
  },
  {
   "cell_type": "code",
   "execution_count": 6,
   "metadata": {
    "collapsed": false
   },
   "outputs": [
    {
     "data": {
      "text/plain": [
       "(1,\n",
       " 2*x,\n",
       " 4*x**2 - 2,\n",
       " 8*x**3 - 12*x,\n",
       " 16*x**4 - 48*x**2 + 12,\n",
       " 32*x**5 - 160*x**3 + 120*x)"
      ]
     },
     "execution_count": 6,
     "metadata": {},
     "output_type": "execute_result"
    }
   ],
   "source": [
    "P0,P1,P2,P3,P4,P5"
   ]
  },
  {
   "cell_type": "markdown",
   "metadata": {},
   "source": [
    "##### En este paso se definen el intervalo para el cual se van a calcular los valores de los polinomios, y entre los cuales posteriormente se realizará la integral que prueba su ortogonalidad."
   ]
  },
  {
   "cell_type": "code",
   "execution_count": 18,
   "metadata": {
    "collapsed": false
   },
   "outputs": [],
   "source": [
    "a = -30\n",
    "b = 30\n",
    "X = range(a,b+1)"
   ]
  },
  {
   "cell_type": "markdown",
   "metadata": {
    "collapsed": false
   },
   "source": [
    "##### A continuación se calculan los vectores que formarán las parejas ordenadas para cada uno de los polinomios a graficar."
   ]
  },
  {
   "cell_type": "code",
   "execution_count": 19,
   "metadata": {
    "collapsed": false
   },
   "outputs": [],
   "source": [
    "m = 20*(len(X)-1)\n",
    "h=(len(X)-1.)/(m-1)\n",
    "X1=range(0,m)\n",
    "Y0=range(0,len(X1))\n",
    "Y1=range(0,len(X1))\n",
    "Y2=range(0,len(X1))\n",
    "Y3=range(0,len(X1))\n",
    "Y4=range(0,len(X1))\n",
    "Y5=range(0,len(X1))\n",
    "for i in range(0,m):\n",
    "    X1[i]=-30+i*h\n",
    "for j in range (0,len(X1)):\n",
    "    Y0[j]=P0.subs({x:X1[j]})\n",
    "for j in range (0,len(X1)):\n",
    "    Y1[j]=P1.subs({x:X1[j]})\n",
    "for j in range (0,len(X1)):\n",
    "    Y2[j]=P2.subs({x:X1[j]})\n",
    "for j in range (0,len(X1)):\n",
    "    Y3[j]=P3.subs({x:X1[j]})\n",
    "for j in range (0,len(X1)):\n",
    "    Y4[j]=P4.subs({x:X1[j]})\n",
    "for j in range (0,len(X1)):\n",
    "    Y5[j]=P5.subs({x:X1[j]})"
   ]
  },
  {
   "cell_type": "markdown",
   "metadata": {
    "collapsed": false
   },
   "source": [
    "##### Se definen los parámetros que debe contener la gráfica que se mostrará, y se usan los cálculos anteriores para hacer la gráfica de cada uno de los polinomios."
   ]
  },
  {
   "cell_type": "code",
   "execution_count": 20,
   "metadata": {
    "collapsed": false
   },
   "outputs": [
    {
     "data": {
      "image/png": "[encoded data removed]",
      "text/plain": [
       "<matplotlib.figure.Figure at 0xa8c4bfec>"
      ]
     },
     "metadata": {},
     "output_type": "display_data"
    }
   ],
   "source": [
    "plt.figure(figsize=(15,5))\n",
    "plt.axis([-4, 4, -50, 50])\n",
    "plt.plot(X1,Y0,\"r\",label=\"n=0\")\n",
    "plt.plot(X1,Y1,\"b--\",label=\"n=1\")\n",
    "plt.plot(X1,Y2,\"y\",label=\"n=2\")\n",
    "plt.plot(X1,Y3,\"r--\",label=\"n=3\")\n",
    "plt.plot(X1,Y4,\"b\",label=\"n=4\")\n",
    "plt.plot(X1,Y5,\"g\",label=\"n=5\")\n",
    "plt.legend(title=\"POLONIMOS DE HERMITE\",loc='best', frameon=True)\n",
    "plt.show()"
   ]
  },
  {
   "cell_type": "markdown",
   "metadata": {},
   "source": [
    "### 5. Comprobación de la ortogonalidad de los polinomios de Hermite."
   ]
  },
  {
   "cell_type": "markdown",
   "metadata": {},
   "source": [
    "##### Se prueba la ortogonalidad de los polinomios para algunas de las posibles parejas entre los 5 primeros, evidenciando que el resultado es aproximadamente cero. \n",
    "##### Se debe aclarar que realmente no se integra en toda la recta real, sino desde dos valores grandes definidos anteriormente (-30, 30) con una simple suma de Riemman con paso h = 0,05, es decir, se toman 1200 valores en este intervalo."
   ]
  },
  {
   "cell_type": "markdown",
   "metadata": {},
   "source": [
    "### Ortogonalidad entre $H_{0}$ y $H_{1}$"
   ]
  },
  {
   "cell_type": "code",
   "execution_count": 21,
   "metadata": {
    "collapsed": false
   },
   "outputs": [
    {
     "data": {
      "text/plain": [
       "9.48164946309280e-624338"
      ]
     },
     "execution_count": 21,
     "metadata": {},
     "output_type": "execute_result"
    }
   ],
   "source": [
    "m = 20*(len(X)-1)\n",
    "h=(len(X)-1.)/(m-1)\n",
    "X1=range(0,m)\n",
    "I=0\n",
    "for i in range (0,len(X1)):\n",
    "    I = I + h*(P0.subs({x:X1[i]}))*(P1.subs({x:X1[j]}))*rho.subs({x:X1[j]})\n",
    "I"
   ]
  },
  {
   "cell_type": "markdown",
   "metadata": {},
   "source": [
    "### Ortogonalidad entre $H_{1}$ y $H_{2}$"
   ]
  },
  {
   "cell_type": "code",
   "execution_count": 27,
   "metadata": {
    "collapsed": false
   },
   "outputs": [
    {
     "data": {
      "text/plain": [
       "2.72616480179339e-624331"
      ]
     },
     "execution_count": 27,
     "metadata": {},
     "output_type": "execute_result"
    }
   ],
   "source": [
    "m = 20*(len(X)-1)\n",
    "h=(len(X)-1.)/(m-1)\n",
    "X1=range(0,m)\n",
    "I=0\n",
    "for i in range (0,len(X1)):\n",
    "    I = I + h*(P1.subs({x:X1[i]}))*(P2.subs({x:X1[j]}))*rho.subs({x:X1[j]})\n",
    "I"
   ]
  },
  {
   "cell_type": "markdown",
   "metadata": {},
   "source": [
    "### Ortogonalidad entre $H_{2}$ y $H_{3}$"
   ]
  },
  {
   "cell_type": "code",
   "execution_count": 23,
   "metadata": {
    "collapsed": false
   },
   "outputs": [
    {
     "data": {
      "text/plain": [
       "1.04553727052659e-624324"
      ]
     },
     "execution_count": 23,
     "metadata": {},
     "output_type": "execute_result"
    }
   ],
   "source": [
    "m = 20*(len(X)-1)\n",
    "h=(len(X)-1.)/(m-1)\n",
    "X1=range(0,m)\n",
    "I=0\n",
    "for i in range (0,len(X1)):\n",
    "    I = I + h*(P2.subs({x:X1[i]}))*(P3.subs({x:X1[j]}))*rho.subs({x:X1[j]})\n",
    "I"
   ]
  },
  {
   "cell_type": "markdown",
   "metadata": {},
   "source": [
    "### Ortogonalidad entre $H_{3}$ y $H_{4}$"
   ]
  },
  {
   "cell_type": "code",
   "execution_count": 24,
   "metadata": {
    "collapsed": false
   },
   "outputs": [
    {
     "data": {
      "text/plain": [
       "4.51106648401550e-624318"
      ]
     },
     "execution_count": 24,
     "metadata": {},
     "output_type": "execute_result"
    }
   ],
   "source": [
    "m = 20*(len(X)-1)\n",
    "h=(len(X)-1.)/(m-1)\n",
    "X1=range(0,m)\n",
    "I=0\n",
    "for i in range (0,len(X1)):\n",
    "    I = I + h*(P3.subs({x:X1[i]}))*(P4.subs({x:X1[j]}))*rho.subs({x:X1[j]})\n",
    "I"
   ]
  },
  {
   "cell_type": "markdown",
   "metadata": {},
   "source": [
    "### Ortogonalidad entre $H_{4}$ y $H_{5}$"
   ]
  },
  {
   "cell_type": "code",
   "execution_count": 25,
   "metadata": {
    "collapsed": false
   },
   "outputs": [
    {
     "data": {
      "text/plain": [
       "2.07609552816256e-624311"
      ]
     },
     "execution_count": 25,
     "metadata": {},
     "output_type": "execute_result"
    }
   ],
   "source": [
    "m = 20*(len(X)-1)\n",
    "h=(len(X)-1.)/(m-1)\n",
    "X1=range(0,m)\n",
    "I=0\n",
    "for i in range (0,len(X1)):\n",
    "    I = I + h*(P4.subs({x:X1[i]}))*(P5.subs({x:X1[j]}))*rho.subs({x:X1[j]})\n",
    "I"
   ]
  },
  {
   "cell_type": "markdown",
   "metadata": {},
   "source": [
    "### Ortogonalidad entre $H_{3}$ y $H_{5}$, dos que no son consecutivos."
   ]
  },
  {
   "cell_type": "code",
   "execution_count": 26,
   "metadata": {
    "collapsed": false
   },
   "outputs": [
    {
     "data": {
      "text/plain": [
       "1.08175223792240e-624314"
      ]
     },
     "execution_count": 26,
     "metadata": {},
     "output_type": "execute_result"
    }
   ],
   "source": [
    "m = 20*(len(X)-1)\n",
    "h=(len(X)-1.)/(m-1)\n",
    "X1=range(0,m)\n",
    "I=0\n",
    "for i in range (0,len(X1)):\n",
    "    I = I + h*(P3.subs({x:X1[i]}))*(P5.subs({x:X1[j]}))*rho.subs({x:X1[j]})\n",
    "I"
   ]
  },
  {
   "cell_type": "markdown",
   "metadata": {},
   "source": [
    "## 6. Aplicaciones "
   ]
  },
  {
   "cell_type": "markdown",
   "metadata": {},
   "source": [
    "##### Una de las aplicaciones mas conocidas es el socilador armónico en mecánica cuántica.\n",
    "##### Se toma la ecuación de Schrodinger para una partícula de masa m\n",
    "### $-\\frac{\\hbar^{2}}{2m}\\frac{d^{2}\\Psi}{dy^{2}}+V(y)\\Psi=\\varepsilon\\Psi$\n",
    "##### donde $\\varepsilon$ es la energía total del oscilador y $V(y)=\\frac{1}{2}m\\omega^{2}y^{2}$ es el potencial armónico unidimensional.\n",
    "##### Se realiza ahora el cambio de variable $x=\\sqrt{\\frac{m\\omega}{\\hbar}y}$.\n",
    "##### Con esto se reduce la ecuación de Schrodinger a \n",
    "### $\\frac{d^{2}\\Psi}{dx^{2}}+(E-x^{2})\\Psi=0$\n",
    "##### donde $E=\\frac{2\\varepsilon}{\\hbar\\omega}.$\n",
    "##### Las soluciones físicas deben satisfacer que:\n",
    "### $\\lim_{|x| \\to \\infty}\\Psi(x)=0$\n",
    "##### Con lo anterior, para $|x|\\gg1$ la ecuación de Schrodinger reducida se puede aproximar a \n",
    "### $\\frac{d^{2}\\Psi}{dx^{2}}\\simeq x^{2}\\Psi$\n",
    "##### lo cual implica que $\\Psi(x)\\sim e^{-\\frac{x^{2}}{2}}$, y podemos proponer la proporcionalidad con $y(x)$, con lo que se obtiene:\n",
    "### $\\Psi(x)=y(x)e^{-\\frac{x^{2}}{2}}$.\n",
    "\n",
    "##### Ahora se debe encontrar la ecuación que debe satisfacer $y(x)$, para ello derivamos dos veces la ecuación anterior.\n",
    "### $\\Psi(x)'=(-xy+y')e^{-\\frac{x^{2}}{2}}$\n",
    "### $\\Psi(x)''=(x^{2}y-xy'-y-xy'+y'')e^{-\\frac{x^{2}}{2}}$\n",
    "### $\\Psi(x)''=(x^{2}y-2xy'-y+y'')e^{-\\frac{x^{2}}{2}}$\n",
    "##### De esta manera la ecuación se reduce a \n",
    "### $e^{-\\frac{x^{2}}{2}}(x^{2}y-2xy'-y+y'')+(E-x^{2})e^{-\\frac{x^{2}}{2}}=0$\n",
    "##### entonces\n",
    "### $y''-2xy'+x^{2}y-y+Ey-x^{2}y=0$\n",
    "##### con lo que finalmente llegamos a \n",
    "### $y''-2xy'+2ny=0$\n",
    "##### la ecuación de Hermite. De aquí en adelante es la solución, que ya se desarrollo anteriormente en este trabajo, y la solución particular a este problema, dependerá pues de las condiciones iniciales."
   ]
  },
  {
   "cell_type": "markdown",
   "metadata": {},
   "source": [
    "# FIN"
   ]
  }
 ],
 "metadata": {
  "kernelspec": {
   "display_name": "Python 2",
   "language": "python",
   "name": "python2"
  },
  "language_info": {
   "codemirror_mode": {
    "name": "ipython",
    "version": 2
   },
   "file_extension": ".py",
   "mimetype": "text/x-python",
   "name": "python",
   "nbconvert_exporter": "python",
   "pygments_lexer": "ipython2",
   "version": "2.7.11"
  }
 },
 "nbformat": 4,
 "nbformat_minor": 0
}
